{
 "cells": [
  {
   "cell_type": "markdown",
   "metadata": {},
   "source": [
    "Watch out, fewer helpful comments this time and I changed a few design matrix calls to make things sparser, and take up less of your memory!"
   ]
  },
  {
   "cell_type": "code",
   "execution_count": 1,
   "metadata": {},
   "outputs": [],
   "source": [
    "import lightkurve as lk\n",
    "import numpy as np\n",
    "import matplotlib.pyplot as plt\n",
    "from scipy import sparse\n",
    "from tqdm.notebook import tqdm\n",
    "import warnings\n",
    "\n",
    "from astropy.timeseries import lombscargle\n",
    "\n",
    "# We'll need this later\n",
    "def vstack(dms):\n",
    "    \"\"\" Custom vertical stack script \n",
    "    \"\"\"\n",
    "    npoints = np.sum([dm.shape[0] for dm in dms])\n",
    "    ncomps = np.sum([dm.shape[1] for dm in dms])\n",
    "    if sparse.issparse(dms[0].X):\n",
    "        X = sparse.lil_matrix((npoints, ncomps))\n",
    "    else:\n",
    "        X = np.zeros((npoints, ncomps))\n",
    "    idx = 0\n",
    "    jdx = 0\n",
    "    for dm in dms:\n",
    "        X[idx:idx+dm.shape[0], jdx:jdx+dm.shape[1]] += dm.X\n",
    "        idx = idx + dm.shape[0]\n",
    "        jdx = jdx + dm.shape[1]\n",
    "    prior_mu = np.hstack([dm.prior_mu for dm in dms])\n",
    "    prior_sigma = np.hstack([dm.prior_sigma for dm in dms])\n",
    "    name = dms[0].name\n",
    "    if sparse.issparse(dms[0].X):\n",
    "        return lk.SparseDesignMatrix(X.tocsr(), name=name, prior_mu=prior_mu, prior_sigma=prior_sigma)\n",
    "    else:\n",
    "        return lk.DesignMatrix(X, name=name, prior_mu=prior_mu, prior_sigma=prior_sigma)"
   ]
  },
  {
   "cell_type": "code",
   "execution_count": 17,
   "metadata": {},
   "outputs": [],
   "source": [
    "# Ruth's OG : 'TIC 150428135'\n",
    "# Soemthing unrelated nearby: \"TIC 150437899\"\n",
    "sr = lk.search_targetpixelfile('TIC 150437899', mission='tess')"
   ]
  },
  {
   "cell_type": "code",
   "execution_count": 18,
   "metadata": {},
   "outputs": [
    {
     "name": "stderr",
     "output_type": "stream",
     "text": [
      "Warning: 31% (6168/19692) of the cadences will be ignored due to the quality mask (quality_bitmask=175).\n"
     ]
    }
   ],
   "source": [
    "tpfs = sr.download_all()"
   ]
  },
  {
   "cell_type": "code",
   "execution_count": 19,
   "metadata": {},
   "outputs": [
    {
     "name": "stderr",
     "output_type": "stream",
     "text": [
      "Warning: 31% (6168/19692) of the cadences will be ignored due to the quality mask (quality_bitmask=175).\n"
     ]
    }
   ],
   "source": [
    "#tpfs = sr.download_all()\n",
    "tpfs_uncorr = [(tpf + np.nan_to_num(tpf.flux_bkg))[np.isfinite(tpf.flux_bkg.sum(axis=(1, 2)))] for tpf in tpfs]"
   ]
  },
  {
   "cell_type": "code",
   "execution_count": 20,
   "metadata": {},
   "outputs": [],
   "source": [
    "bigger_apers = [(np.asarray(np.gradient(tpf.pipeline_mask.astype(int))) != 0).any(axis=0) | tpf.pipeline_mask for tpf in tpfs_uncorr]\n",
    "bigger_apers = [tpf.pipeline_mask for tpf in tpfs_uncorr]"
   ]
  },
  {
   "cell_type": "code",
   "execution_count": 21,
   "metadata": {},
   "outputs": [],
   "source": [
    "lc = lk.LightCurveCollection([tpf.to_lightcurve(aperture_mask=aper) for tpf, aper in zip(tpfs_uncorr, bigger_apers)]).stitch()\n",
    "lc.flux_err[~np.isfinite(lc.flux_err)] = np.nanmedian(lc.flux_err)"
   ]
  },
  {
   "cell_type": "code",
   "execution_count": 22,
   "metadata": {
    "scrolled": true
   },
   "outputs": [],
   "source": [
    "with warnings.catch_warnings():\n",
    "    warnings.simplefilter('ignore')\n",
    "    bkgs = [lk.DesignMatrix(tpf.flux[:, ~aper], name='bkg').pca(3).append_constant().to_sparse() for tpf, aper in zip(tpfs_uncorr, bigger_apers)]\n",
    "    for bkg in bkgs:\n",
    "        bkg.prior_mu[-1] = 1\n",
    "        bkg.prior_sigma[-1] = 0.1\n",
    "        \n",
    "        bkg.prior_mu[:-1] = 0\n",
    "        bkg.prior_sigma[:-1] = 1e4\n",
    "\n",
    "        \n",
    "    # Split at the downlink\n",
    "    bkgs = [bkg.split(list((np.where((np.diff(tpf.time) > 0.3))[0] + 1))) for bkg, tpf in zip(bkgs, tpfs_uncorr)]\n",
    "systematics_dm = vstack(bkgs)"
   ]
  },
  {
   "cell_type": "markdown",
   "metadata": {},
   "source": [
    "This time, we're using a design matrix of sines and cosines to look for periodicities"
   ]
  },
  {
   "cell_type": "code",
   "execution_count": 23,
   "metadata": {},
   "outputs": [],
   "source": [
    "period = 50\n",
    "ls_dm = lk.DesignMatrix(lombscargle.implementations.mle.design_matrix(lc.time, frequency=1/period, bias=False, nterms=1), name='LS').to_sparse()"
   ]
  },
  {
   "cell_type": "code",
   "execution_count": 24,
   "metadata": {},
   "outputs": [],
   "source": [
    "dm = lk.SparseDesignMatrixCollection([systematics_dm, ls_dm]).to_designmatrix(name='design_matrix')"
   ]
  },
  {
   "cell_type": "code",
   "execution_count": 25,
   "metadata": {},
   "outputs": [
    {
     "data": {
      "application/vnd.jupyter.widget-view+json": {
       "model_id": "475777a52f35488592079fd0875d2a15",
       "version_major": 2,
       "version_minor": 0
      },
      "text/plain": [
       "HBox(children=(FloatProgress(value=0.0, max=300.0), HTML(value='')))"
      ]
     },
     "metadata": {},
     "output_type": "display_data"
    },
    {
     "name": "stderr",
     "output_type": "stream",
     "text": [
      "/Users/ch/miniconda3/lib/python3.6/site-packages/ipykernel_launcher.py:16: RuntimeWarning: invalid value encountered in sqrt\n",
      "  app.launch_new_instance()\n"
     ]
    },
    {
     "name": "stdout",
     "output_type": "stream",
     "text": [
      "\n"
     ]
    }
   ],
   "source": [
    "# Loop over some periods we might care about\n",
    "periods = 1/np.linspace(1/120, 1/10, 300)\n",
    "ws = np.zeros((len(periods), 2))\n",
    "ws_err = np.zeros((len(periods), 2))\n",
    "\n",
    "for idx, period in enumerate(tqdm(periods)):\n",
    "    dm.X[:, -2:] = lombscargle.implementations.mle.design_matrix(lc.time, frequency=1/period, bias=False, nterms=1)\n",
    "    sigma_f_inv = sparse.csr_matrix(1/lc.flux_err[:, None]**2)\n",
    "\n",
    "    sigma_w_inv = dm.X.T.dot(dm.X.multiply(sigma_f_inv)).toarray()\n",
    "    sigma_w_inv += np.diag(1. / dm.prior_sigma**2)\n",
    "\n",
    "    B = dm.X.T.dot((lc.flux/lc.flux_err**2))\n",
    "    B += dm.prior_mu/dm.prior_sigma**2\n",
    "    w = np.linalg.solve(sigma_w_inv, B)\n",
    "    werr = (np.linalg.inv(sigma_w_inv))**0.5\n",
    "    ws[idx] = w[-2:]\n",
    "    ws_err[idx] = (werr.diagonal())[-2:]\n",
    "#    break"
   ]
  },
  {
   "cell_type": "code",
   "execution_count": 26,
   "metadata": {},
   "outputs": [
    {
     "data": {
      "text/plain": [
       "<matplotlib.lines.Line2D at 0x19b395b70>"
      ]
     },
     "execution_count": 26,
     "metadata": {},
     "output_type": "execute_result"
    },
    {
     "data": {
      "image/png": "[encoded data removed]",
      "text/plain": [
       "<Figure size 432x288 with 1 Axes>"
      ]
     },
     "metadata": {
      "image/png": {
       "height": 261,
       "width": 398
      }
     },
     "output_type": "display_data"
    }
   ],
   "source": [
    "plt.errorbar(periods, (ws[:, 0]**2 + ws[:, 1]**2)**0.5, (ws_err[:, 0]**2 + ws_err[:, 1]**2)**0.5)\n",
    "plt.xlabel('Period [d]')\n",
    "plt.ylabel('\"Power\" by some definition')\n",
    "plt.axvline(50)"
   ]
  },
  {
   "cell_type": "code",
   "execution_count": null,
   "metadata": {},
   "outputs": [],
   "source": []
  },
  {
   "cell_type": "code",
   "execution_count": null,
   "metadata": {},
   "outputs": [],
   "source": []
  }
 ],
 "metadata": {
  "kernelspec": {
   "display_name": "Python 3",
   "language": "python",
   "name": "python3"
  },
  "language_info": {
   "codemirror_mode": {
    "name": "ipython",
    "version": 3
   },
   "file_extension": ".py",
   "mimetype": "text/x-python",
   "name": "python",
   "nbconvert_exporter": "python",
   "pygments_lexer": "ipython3",
   "version": "3.6.7"
  }
 },
 "nbformat": 4,
 "nbformat_minor": 2
}
